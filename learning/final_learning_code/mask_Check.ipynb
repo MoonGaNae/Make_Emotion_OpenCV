{
 "cells": [
  {
   "cell_type": "code",
   "execution_count": 12,
   "metadata": {},
   "outputs": [],
   "source": [
    "import numpy as np\n",
    "import pandas as pd\n",
    "from keras.preprocessing.image import ImageDataGenerator, load_img\n",
    "from keras.utils import to_categorical\n",
    "from sklearn.model_selection import train_test_split\n",
    "import matplotlib.pyplot as plt\n",
    "import tensorflow as tf\n",
    "import random\n",
    "import os\n",
    "import natsort\n",
    "import warnings\n",
    "warnings.filterwarnings('ignore')\n"
   ]
  },
  {
   "cell_type": "code",
   "execution_count": 13,
   "metadata": {},
   "outputs": [],
   "source": [
    "# Define constants\n",
    "FAST_RUN = False\n",
    "IMAGE_WIDTH = 128\n",
    "IMAGE_HEIGHT = 128\n",
    "IMAGE_SIZE=(IMAGE_WIDTH, IMAGE_HEIGHT)\n",
    "IMAGE_CHANNELS=3"
   ]
  },
  {
   "cell_type": "code",
   "execution_count": 14,
   "metadata": {},
   "outputs": [
    {
     "data": {
      "text/html": [
       "<div>\n",
       "<style scoped>\n",
       "    .dataframe tbody tr th:only-of-type {\n",
       "        vertical-align: middle;\n",
       "    }\n",
       "\n",
       "    .dataframe tbody tr th {\n",
       "        vertical-align: top;\n",
       "    }\n",
       "\n",
       "    .dataframe thead th {\n",
       "        text-align: right;\n",
       "    }\n",
       "</style>\n",
       "<table border=\"1\" class=\"dataframe\">\n",
       "  <thead>\n",
       "    <tr style=\"text-align: right;\">\n",
       "      <th></th>\n",
       "      <th>filename</th>\n",
       "      <th>category</th>\n",
       "    </tr>\n",
       "  </thead>\n",
       "  <tbody>\n",
       "    <tr>\n",
       "      <th>0</th>\n",
       "      <td>mask_0000.png</td>\n",
       "      <td>1</td>\n",
       "    </tr>\n",
       "    <tr>\n",
       "      <th>1</th>\n",
       "      <td>mask_0001.png</td>\n",
       "      <td>1</td>\n",
       "    </tr>\n",
       "    <tr>\n",
       "      <th>2</th>\n",
       "      <td>mask_0002.png</td>\n",
       "      <td>1</td>\n",
       "    </tr>\n",
       "    <tr>\n",
       "      <th>3</th>\n",
       "      <td>mask_0003.png</td>\n",
       "      <td>1</td>\n",
       "    </tr>\n",
       "    <tr>\n",
       "      <th>4</th>\n",
       "      <td>mask_0004.png</td>\n",
       "      <td>1</td>\n",
       "    </tr>\n",
       "  </tbody>\n",
       "</table>\n",
       "</div>"
      ],
      "text/plain": [
       "        filename  category\n",
       "0  mask_0000.png         1\n",
       "1  mask_0001.png         1\n",
       "2  mask_0002.png         1\n",
       "3  mask_0003.png         1\n",
       "4  mask_0004.png         1"
      ]
     },
     "execution_count": 14,
     "metadata": {},
     "output_type": "execute_result"
    }
   ],
   "source": [
    "di1 = \"../graduation_dataset/mask/train5/dataset/\"\n",
    "\n",
    "filenames = os.listdir(di1)\n",
    "\n",
    "categories = []\n",
    "\n",
    "for filename in filenames:\n",
    "    category = filename.split('_')[0]\n",
    "    if category == 'nomask':\n",
    "        categories.append(0)\n",
    "    else :\n",
    "        categories.append(1)\n",
    "        \n",
    "df = pd.DataFrame({\n",
    "    'filename': filenames,\n",
    "    'category': categories\n",
    "})\n",
    "\n",
    "df.head()"
   ]
  },
  {
   "cell_type": "code",
   "execution_count": 15,
   "metadata": {},
   "outputs": [
    {
     "data": {
      "text/html": [
       "<div>\n",
       "<style scoped>\n",
       "    .dataframe tbody tr th:only-of-type {\n",
       "        vertical-align: middle;\n",
       "    }\n",
       "\n",
       "    .dataframe tbody tr th {\n",
       "        vertical-align: top;\n",
       "    }\n",
       "\n",
       "    .dataframe thead th {\n",
       "        text-align: right;\n",
       "    }\n",
       "</style>\n",
       "<table border=\"1\" class=\"dataframe\">\n",
       "  <thead>\n",
       "    <tr style=\"text-align: right;\">\n",
       "      <th></th>\n",
       "      <th>filename</th>\n",
       "      <th>category</th>\n",
       "    </tr>\n",
       "  </thead>\n",
       "  <tbody>\n",
       "    <tr>\n",
       "      <th>3828</th>\n",
       "      <td>nomask_1913.jpg</td>\n",
       "      <td>0</td>\n",
       "    </tr>\n",
       "    <tr>\n",
       "      <th>3829</th>\n",
       "      <td>nomask_1914.jpg</td>\n",
       "      <td>0</td>\n",
       "    </tr>\n",
       "    <tr>\n",
       "      <th>3830</th>\n",
       "      <td>nomask_1915.jpg</td>\n",
       "      <td>0</td>\n",
       "    </tr>\n",
       "    <tr>\n",
       "      <th>3831</th>\n",
       "      <td>nomask_1916.jpg</td>\n",
       "      <td>0</td>\n",
       "    </tr>\n",
       "    <tr>\n",
       "      <th>3832</th>\n",
       "      <td>nomask_1917.jpg</td>\n",
       "      <td>0</td>\n",
       "    </tr>\n",
       "  </tbody>\n",
       "</table>\n",
       "</div>"
      ],
      "text/plain": [
       "             filename  category\n",
       "3828  nomask_1913.jpg         0\n",
       "3829  nomask_1914.jpg         0\n",
       "3830  nomask_1915.jpg         0\n",
       "3831  nomask_1916.jpg         0\n",
       "3832  nomask_1917.jpg         0"
      ]
     },
     "execution_count": 15,
     "metadata": {},
     "output_type": "execute_result"
    }
   ],
   "source": [
    "df.tail()"
   ]
  },
  {
   "cell_type": "code",
   "execution_count": 16,
   "metadata": {},
   "outputs": [
    {
     "name": "stdout",
     "output_type": "stream",
     "text": [
      "Model: \"sequential_1\"\n",
      "_________________________________________________________________\n",
      "Layer (type)                 Output Shape              Param #   \n",
      "=================================================================\n",
      "conv2d_3 (Conv2D)            (None, 126, 126, 32)      896       \n",
      "_________________________________________________________________\n",
      "max_pooling2d_3 (MaxPooling2 (None, 63, 63, 32)        0         \n",
      "_________________________________________________________________\n",
      "dropout_4 (Dropout)          (None, 63, 63, 32)        0         \n",
      "_________________________________________________________________\n",
      "conv2d_4 (Conv2D)            (None, 61, 61, 64)        18496     \n",
      "_________________________________________________________________\n",
      "max_pooling2d_4 (MaxPooling2 (None, 30, 30, 64)        0         \n",
      "_________________________________________________________________\n",
      "dropout_5 (Dropout)          (None, 30, 30, 64)        0         \n",
      "_________________________________________________________________\n",
      "conv2d_5 (Conv2D)            (None, 28, 28, 128)       73856     \n",
      "_________________________________________________________________\n",
      "max_pooling2d_5 (MaxPooling2 (None, 14, 14, 128)       0         \n",
      "_________________________________________________________________\n",
      "dropout_6 (Dropout)          (None, 14, 14, 128)       0         \n",
      "_________________________________________________________________\n",
      "flatten_1 (Flatten)          (None, 25088)             0         \n",
      "_________________________________________________________________\n",
      "dense_2 (Dense)              (None, 128)               3211392   \n",
      "_________________________________________________________________\n",
      "dropout_7 (Dropout)          (None, 128)               0         \n",
      "_________________________________________________________________\n",
      "dense_3 (Dense)              (None, 2)                 258       \n",
      "=================================================================\n",
      "Total params: 3,304,898\n",
      "Trainable params: 3,304,898\n",
      "Non-trainable params: 0\n",
      "_________________________________________________________________\n"
     ]
    }
   ],
   "source": [
    "from tensorflow.keras.models import Sequential\n",
    "from tensorflow.keras.layers import Conv2D, MaxPooling2D, Dropout, Flatten, Dense, Activation, BatchNormalization\n",
    "\n",
    "model = Sequential()\n",
    "\n",
    "model.add(Conv2D(32, kernel_size=(3, 3), activation = 'relu', input_shape = (IMAGE_WIDTH, IMAGE_HEIGHT, IMAGE_CHANNELS)))\n",
    "model.add(MaxPooling2D(pool_size=(2, 2)))\n",
    "model.add(Dropout(0.5))\n",
    "\n",
    "model.add(Conv2D(64,kernel_size=(3, 3), activation='relu'))\n",
    "model.add(MaxPooling2D(pool_size=(2, 2)))\n",
    "model.add(Dropout(0.5))\n",
    "\n",
    "model.add(Conv2D(128,kernel_size=(3, 3), activation='relu'))\n",
    "model.add(MaxPooling2D(pool_size=(2, 2)))\n",
    "model.add(Dropout(0.5))\n",
    "\n",
    "model.add(Flatten())\n",
    "model.add(Dense(128, activation='relu'))\n",
    "model.add(Dropout(0.5))\n",
    "model.add(Dense(2, activation = 'sigmoid'))\n",
    "\n",
    "model.compile(loss='binary_crossentropy', optimizer='Adamax', metrics=['accuracy'])\n",
    "\n",
    "model.summary()"
   ]
  },
  {
   "cell_type": "code",
   "execution_count": 17,
   "metadata": {},
   "outputs": [],
   "source": [
    "df[\"category\"] = df[\"category\"].replace({0: 'nomask', 1: 'mask'})"
   ]
  },
  {
   "cell_type": "code",
   "execution_count": 18,
   "metadata": {},
   "outputs": [
    {
     "data": {
      "text/html": [
       "<div>\n",
       "<style scoped>\n",
       "    .dataframe tbody tr th:only-of-type {\n",
       "        vertical-align: middle;\n",
       "    }\n",
       "\n",
       "    .dataframe tbody tr th {\n",
       "        vertical-align: top;\n",
       "    }\n",
       "\n",
       "    .dataframe thead th {\n",
       "        text-align: right;\n",
       "    }\n",
       "</style>\n",
       "<table border=\"1\" class=\"dataframe\">\n",
       "  <thead>\n",
       "    <tr style=\"text-align: right;\">\n",
       "      <th></th>\n",
       "      <th>filename</th>\n",
       "      <th>category</th>\n",
       "    </tr>\n",
       "  </thead>\n",
       "  <tbody>\n",
       "    <tr>\n",
       "      <th>3828</th>\n",
       "      <td>nomask_1913.jpg</td>\n",
       "      <td>nomask</td>\n",
       "    </tr>\n",
       "    <tr>\n",
       "      <th>3829</th>\n",
       "      <td>nomask_1914.jpg</td>\n",
       "      <td>nomask</td>\n",
       "    </tr>\n",
       "    <tr>\n",
       "      <th>3830</th>\n",
       "      <td>nomask_1915.jpg</td>\n",
       "      <td>nomask</td>\n",
       "    </tr>\n",
       "    <tr>\n",
       "      <th>3831</th>\n",
       "      <td>nomask_1916.jpg</td>\n",
       "      <td>nomask</td>\n",
       "    </tr>\n",
       "    <tr>\n",
       "      <th>3832</th>\n",
       "      <td>nomask_1917.jpg</td>\n",
       "      <td>nomask</td>\n",
       "    </tr>\n",
       "  </tbody>\n",
       "</table>\n",
       "</div>"
      ],
      "text/plain": [
       "             filename category\n",
       "3828  nomask_1913.jpg   nomask\n",
       "3829  nomask_1914.jpg   nomask\n",
       "3830  nomask_1915.jpg   nomask\n",
       "3831  nomask_1916.jpg   nomask\n",
       "3832  nomask_1917.jpg   nomask"
      ]
     },
     "execution_count": 18,
     "metadata": {},
     "output_type": "execute_result"
    }
   ],
   "source": [
    "df.tail()"
   ]
  },
  {
   "cell_type": "code",
   "execution_count": 19,
   "metadata": {},
   "outputs": [],
   "source": [
    "train_df, validate_df = train_test_split(df, test_size=0.20, random_state=42)\n",
    "train_df = train_df.reset_index(drop=True)\n",
    "validate_df = validate_df.reset_index(drop=True)"
   ]
  },
  {
   "cell_type": "code",
   "execution_count": 20,
   "metadata": {},
   "outputs": [
    {
     "data": {
      "text/plain": [
       "<matplotlib.axes._subplots.AxesSubplot at 0x23faed3a788>"
      ]
     },
     "execution_count": 20,
     "metadata": {},
     "output_type": "execute_result"
    },
    {
     "data": {
      "image/png": "[encoded data removed]",
      "text/plain": [
       "<Figure size 432x288 with 1 Axes>"
      ]
     },
     "metadata": {
      "needs_background": "light"
     },
     "output_type": "display_data"
    }
   ],
   "source": [
    "train_df['category'].value_counts().plot.bar()"
   ]
  },
  {
   "cell_type": "code",
   "execution_count": 21,
   "metadata": {},
   "outputs": [
    {
     "data": {
      "text/plain": [
       "<matplotlib.axes._subplots.AxesSubplot at 0x23faed98bc8>"
      ]
     },
     "execution_count": 21,
     "metadata": {},
     "output_type": "execute_result"
    },
    {
     "data": {
      "image/png": "[encoded data removed]",
      "text/plain": [
       "<Figure size 432x288 with 1 Axes>"
      ]
     },
     "metadata": {
      "needs_background": "light"
     },
     "output_type": "display_data"
    }
   ],
   "source": [
    "validate_df['category'].value_counts().plot.bar()"
   ]
  },
  {
   "cell_type": "code",
   "execution_count": 23,
   "metadata": {},
   "outputs": [],
   "source": [
    "total_train = train_df.shape[0]\n",
    "total_validate = validate_df.shape[0]\n",
    "batch_size=15"
   ]
  },
  {
   "cell_type": "code",
   "execution_count": 24,
   "metadata": {},
   "outputs": [
    {
     "name": "stdout",
     "output_type": "stream",
     "text": [
      "Found 3066 validated image filenames belonging to 2 classes.\n"
     ]
    }
   ],
   "source": [
    "#Train Generator\n",
    "train_datagen = ImageDataGenerator(\n",
    "    rotation_range=15,\n",
    "    rescale=1./255,\n",
    "    shear_range=0.1,\n",
    "    zoom_range=0.2,\n",
    "    horizontal_flip=True,\n",
    "    width_shift_range=0.1,\n",
    "    height_shift_range=0.1\n",
    ")\n",
    "\n",
    "train_generator = train_datagen.flow_from_dataframe(\n",
    "     train_df,\n",
    "    di1,\n",
    "    x_col='filename',\n",
    "    y_col='category',\n",
    "    target_size=IMAGE_SIZE,\n",
    "    class_mode='categorical',\n",
    "    batch_size = batch_size\n",
    ")"
   ]
  },
  {
   "cell_type": "code",
   "execution_count": 25,
   "metadata": {},
   "outputs": [
    {
     "name": "stdout",
     "output_type": "stream",
     "text": [
      "Found 767 validated image filenames belonging to 2 classes.\n"
     ]
    }
   ],
   "source": [
    "# Validation Generator\n",
    "validation_datagen = ImageDataGenerator(rescale=1./255)\n",
    "validation_generator = validation_datagen.flow_from_dataframe(\n",
    "    validate_df,\n",
    "    di1,\n",
    "    x_col='filename',\n",
    "    y_col='category',\n",
    "    target_size=IMAGE_SIZE,\n",
    "    class_mode='categorical',\n",
    "    batch_size = batch_size\n",
    ")\n"
   ]
  },
  {
   "cell_type": "code",
   "execution_count": 26,
   "metadata": {},
   "outputs": [
    {
     "name": "stdout",
     "output_type": "stream",
     "text": [
      "Found 1 validated image filenames belonging to 1 classes.\n"
     ]
    }
   ],
   "source": [
    "#See how our generator work\n",
    "\n",
    "example_df = train_df.sample(n=1).reset_index(drop=True)\n",
    "example_generator = train_datagen.flow_from_dataframe(\n",
    "    example_df,\n",
    "    di1,\n",
    "    x_col='filename',\n",
    "    y_col='category',\n",
    "    target_size=IMAGE_SIZE,\n",
    "    class_mode='categorical',\n",
    ")"
   ]
  },
  {
   "cell_type": "code",
   "execution_count": 28,
   "metadata": {},
   "outputs": [],
   "source": [
    "# Callbacks\n",
    "from tensorflow.keras.callbacks import EarlyStopping, ReduceLROnPlateau"
   ]
  },
  {
   "cell_type": "code",
   "execution_count": 29,
   "metadata": {},
   "outputs": [],
   "source": [
    "# Early Stop\n",
    "earlystop = EarlyStopping(patience=10)"
   ]
  },
  {
   "cell_type": "code",
   "execution_count": 30,
   "metadata": {},
   "outputs": [],
   "source": [
    "learning_rate_reduction = ReduceLROnPlateau(monitor='val_accuracy',\n",
    "                                           patience=2,\n",
    "                                           verbose=1,\n",
    "                                           factor=0.5,\n",
    "                                           min_lr=0.00001)"
   ]
  },
  {
   "cell_type": "code",
   "execution_count": 31,
   "metadata": {},
   "outputs": [],
   "source": [
    "callbacks= [earlystop, learning_rate_reduction]"
   ]
  },
  {
   "cell_type": "code",
   "execution_count": 32,
   "metadata": {},
   "outputs": [
    {
     "name": "stdout",
     "output_type": "stream",
     "text": [
      "Epoch 1/50\n",
      "204/204 [==============================] - 205s 1s/step - loss: 0.2933 - accuracy: 0.8994 - val_loss: 0.2800 - val_accuracy: 0.9085 - lr: 0.0010\n",
      "Epoch 2/50\n",
      "204/204 [==============================] - 221s 1s/step - loss: 0.2827 - accuracy: 0.9007 - val_loss: 0.2744 - val_accuracy: 0.9320 - lr: 0.0010\n",
      "Epoch 3/50\n",
      "204/204 [==============================] - 206s 1s/step - loss: 0.2591 - accuracy: 0.9076 - val_loss: 0.2423 - val_accuracy: 0.9229 - lr: 0.0010\n",
      "Epoch 4/50\n",
      "204/204 [==============================] - 183s 897ms/step - loss: 0.2391 - accuracy: 0.9190 - val_loss: 0.2107 - val_accuracy: 0.9346 - lr: 0.0010\n",
      "Epoch 5/50\n",
      "204/204 [==============================] - 87s 427ms/step - loss: 0.2217 - accuracy: 0.9233 - val_loss: 0.1992 - val_accuracy: 0.9373 - lr: 0.0010\n",
      "Epoch 6/50\n",
      "204/204 [==============================] - 90s 441ms/step - loss: 0.2258 - accuracy: 0.9204 - val_loss: 0.1987 - val_accuracy: 0.9451 - lr: 0.0010\n",
      "Epoch 7/50\n",
      "204/204 [==============================] - 91s 447ms/step - loss: 0.2122 - accuracy: 0.9233 - val_loss: 0.1668 - val_accuracy: 0.9438 - lr: 0.0010\n",
      "Epoch 8/50\n",
      "204/204 [==============================] - 89s 435ms/step - loss: 0.2002 - accuracy: 0.9285 - val_loss: 0.2044 - val_accuracy: 0.9503 - lr: 0.0010\n",
      "Epoch 9/50\n",
      "204/204 [==============================] - 93s 457ms/step - loss: 0.2009 - accuracy: 0.9289 - val_loss: 0.1786 - val_accuracy: 0.9425 - lr: 0.0010\n",
      "Epoch 10/50\n",
      "204/204 [==============================] - ETA: 0s - loss: 0.1914 - accuracy: 0.9344\n",
      "Epoch 00010: ReduceLROnPlateau reducing learning rate to 0.0005000000237487257.\n",
      "204/204 [==============================] - 89s 437ms/step - loss: 0.1914 - accuracy: 0.9344 - val_loss: 0.1756 - val_accuracy: 0.9503 - lr: 0.0010\n",
      "Epoch 11/50\n",
      "204/204 [==============================] - 90s 440ms/step - loss: 0.1971 - accuracy: 0.9312 - val_loss: 0.1533 - val_accuracy: 0.9503 - lr: 5.0000e-04\n",
      "Epoch 12/50\n",
      "204/204 [==============================] - 97s 473ms/step - loss: 0.1747 - accuracy: 0.9387 - val_loss: 0.1460 - val_accuracy: 0.9569 - lr: 5.0000e-04\n",
      "Epoch 13/50\n",
      "204/204 [==============================] - 165s 809ms/step - loss: 0.1738 - accuracy: 0.9354 - val_loss: 0.1486 - val_accuracy: 0.9569 - lr: 5.0000e-04\n",
      "Epoch 14/50\n",
      "204/204 [==============================] - ETA: 0s - loss: 0.1660 - accuracy: 0.9420\n",
      "Epoch 00014: ReduceLROnPlateau reducing learning rate to 0.0002500000118743628.\n",
      "204/204 [==============================] - 195s 957ms/step - loss: 0.1660 - accuracy: 0.9420 - val_loss: 0.1483 - val_accuracy: 0.9556 - lr: 5.0000e-04\n",
      "Epoch 15/50\n",
      "204/204 [==============================] - 178s 872ms/step - loss: 0.1667 - accuracy: 0.9413 - val_loss: 0.1510 - val_accuracy: 0.9542 - lr: 2.5000e-04\n",
      "Epoch 16/50\n",
      "204/204 [==============================] - ETA: 0s - loss: 0.1554 - accuracy: 0.9430\n",
      "Epoch 00016: ReduceLROnPlateau reducing learning rate to 0.0001250000059371814.\n",
      "204/204 [==============================] - 180s 882ms/step - loss: 0.1554 - accuracy: 0.9430 - val_loss: 0.1447 - val_accuracy: 0.9529 - lr: 2.5000e-04\n",
      "Epoch 17/50\n",
      "204/204 [==============================] - 176s 863ms/step - loss: 0.1639 - accuracy: 0.9426 - val_loss: 0.1485 - val_accuracy: 0.9516 - lr: 1.2500e-04\n",
      "Epoch 18/50\n",
      "204/204 [==============================] - ETA: 0s - loss: 0.1589 - accuracy: 0.9440\n",
      "Epoch 00018: ReduceLROnPlateau reducing learning rate to 6.25000029685907e-05.\n",
      "204/204 [==============================] - 182s 890ms/step - loss: 0.1589 - accuracy: 0.9440 - val_loss: 0.1427 - val_accuracy: 0.9542 - lr: 1.2500e-04\n",
      "Epoch 19/50\n",
      "204/204 [==============================] - 182s 894ms/step - loss: 0.1531 - accuracy: 0.9440 - val_loss: 0.1398 - val_accuracy: 0.9556 - lr: 6.2500e-05\n",
      "Epoch 20/50\n",
      "204/204 [==============================] - 187s 917ms/step - loss: 0.1506 - accuracy: 0.9472 - val_loss: 0.1377 - val_accuracy: 0.9595 - lr: 6.2500e-05\n",
      "Epoch 21/50\n",
      "204/204 [==============================] - 181s 888ms/step - loss: 0.1633 - accuracy: 0.9459 - val_loss: 0.1407 - val_accuracy: 0.9542 - lr: 6.2500e-05\n",
      "Epoch 22/50\n",
      "204/204 [==============================] - ETA: 0s - loss: 0.1525 - accuracy: 0.9449\n",
      "Epoch 00022: ReduceLROnPlateau reducing learning rate to 3.125000148429535e-05.\n",
      "204/204 [==============================] - 179s 877ms/step - loss: 0.1525 - accuracy: 0.9449 - val_loss: 0.1396 - val_accuracy: 0.9542 - lr: 6.2500e-05\n",
      "Epoch 23/50\n",
      "204/204 [==============================] - 185s 905ms/step - loss: 0.1474 - accuracy: 0.9476 - val_loss: 0.1372 - val_accuracy: 0.9542 - lr: 3.1250e-05\n",
      "Epoch 24/50\n",
      "204/204 [==============================] - ETA: 0s - loss: 0.1562 - accuracy: 0.9430\n",
      "Epoch 00024: ReduceLROnPlateau reducing learning rate to 1.5625000742147677e-05.\n",
      "204/204 [==============================] - 171s 838ms/step - loss: 0.1562 - accuracy: 0.9430 - val_loss: 0.1370 - val_accuracy: 0.9542 - lr: 3.1250e-05\n",
      "Epoch 25/50\n",
      "204/204 [==============================] - 173s 847ms/step - loss: 0.1569 - accuracy: 0.9453 - val_loss: 0.1373 - val_accuracy: 0.9542 - lr: 1.5625e-05\n",
      "Epoch 26/50\n",
      "204/204 [==============================] - ETA: 0s - loss: 0.1510 - accuracy: 0.9430\n",
      "Epoch 00026: ReduceLROnPlateau reducing learning rate to 1e-05.\n",
      "204/204 [==============================] - 178s 873ms/step - loss: 0.1510 - accuracy: 0.9430 - val_loss: 0.1375 - val_accuracy: 0.9542 - lr: 1.5625e-05\n",
      "Epoch 27/50\n",
      "204/204 [==============================] - 182s 890ms/step - loss: 0.1498 - accuracy: 0.9466 - val_loss: 0.1370 - val_accuracy: 0.9542 - lr: 1.0000e-05\n",
      "Epoch 28/50\n",
      "204/204 [==============================] - 177s 869ms/step - loss: 0.1550 - accuracy: 0.9436 - val_loss: 0.1377 - val_accuracy: 0.9542 - lr: 1.0000e-05\n",
      "Epoch 29/50\n",
      "204/204 [==============================] - 188s 923ms/step - loss: 0.1562 - accuracy: 0.9420 - val_loss: 0.1377 - val_accuracy: 0.9542 - lr: 1.0000e-05\n",
      "Epoch 30/50\n",
      "204/204 [==============================] - 166s 815ms/step - loss: 0.1548 - accuracy: 0.9459 - val_loss: 0.1380 - val_accuracy: 0.9542 - lr: 1.0000e-05\n",
      "Epoch 31/50\n",
      "204/204 [==============================] - 168s 823ms/step - loss: 0.1454 - accuracy: 0.9476 - val_loss: 0.1379 - val_accuracy: 0.9542 - lr: 1.0000e-05\n",
      "Epoch 32/50\n",
      "204/204 [==============================] - 169s 830ms/step - loss: 0.1538 - accuracy: 0.9443 - val_loss: 0.1368 - val_accuracy: 0.9556 - lr: 1.0000e-05\n",
      "Epoch 33/50\n",
      "204/204 [==============================] - 172s 844ms/step - loss: 0.1501 - accuracy: 0.9489 - val_loss: 0.1371 - val_accuracy: 0.9542 - lr: 1.0000e-05\n",
      "Epoch 34/50\n",
      "204/204 [==============================] - 172s 842ms/step - loss: 0.1525 - accuracy: 0.9472 - val_loss: 0.1375 - val_accuracy: 0.9542 - lr: 1.0000e-05\n",
      "Epoch 35/50\n",
      "204/204 [==============================] - 146s 717ms/step - loss: 0.1574 - accuracy: 0.9466 - val_loss: 0.1370 - val_accuracy: 0.9556 - lr: 1.0000e-05\n",
      "Epoch 36/50\n",
      "204/204 [==============================] - 144s 706ms/step - loss: 0.1465 - accuracy: 0.9456 - val_loss: 0.1375 - val_accuracy: 0.9542 - lr: 1.0000e-05\n",
      "Epoch 37/50\n",
      "204/204 [==============================] - 144s 706ms/step - loss: 0.1506 - accuracy: 0.9453 - val_loss: 0.1369 - val_accuracy: 0.9556 - lr: 1.0000e-05\n",
      "Epoch 38/50\n",
      "204/204 [==============================] - 145s 709ms/step - loss: 0.1539 - accuracy: 0.9476 - val_loss: 0.1364 - val_accuracy: 0.9556 - lr: 1.0000e-05\n",
      "Epoch 39/50\n",
      "204/204 [==============================] - 145s 709ms/step - loss: 0.1518 - accuracy: 0.9449 - val_loss: 0.1369 - val_accuracy: 0.9542 - lr: 1.0000e-05\n",
      "Epoch 40/50\n",
      "204/204 [==============================] - 143s 702ms/step - loss: 0.1533 - accuracy: 0.9446 - val_loss: 0.1365 - val_accuracy: 0.9556 - lr: 1.0000e-05\n",
      "Epoch 41/50\n",
      "204/204 [==============================] - 143s 701ms/step - loss: 0.1482 - accuracy: 0.9446 - val_loss: 0.1371 - val_accuracy: 0.9542 - lr: 1.0000e-05\n",
      "Epoch 42/50\n",
      "204/204 [==============================] - 142s 696ms/step - loss: 0.1434 - accuracy: 0.9456 - val_loss: 0.1368 - val_accuracy: 0.9542 - lr: 1.0000e-05\n",
      "Epoch 43/50\n",
      "204/204 [==============================] - 96s 472ms/step - loss: 0.1539 - accuracy: 0.9453 - val_loss: 0.1368 - val_accuracy: 0.9556 - lr: 1.0000e-05\n",
      "Epoch 44/50\n"
     ]
    },
    {
     "name": "stdout",
     "output_type": "stream",
     "text": [
      "204/204 [==============================] - 80s 394ms/step - loss: 0.1481 - accuracy: 0.9469 - val_loss: 0.1365 - val_accuracy: 0.9556 - lr: 1.0000e-05\n",
      "Epoch 45/50\n",
      "204/204 [==============================] - 80s 393ms/step - loss: 0.1527 - accuracy: 0.9459 - val_loss: 0.1368 - val_accuracy: 0.9556 - lr: 1.0000e-05\n",
      "Epoch 46/50\n",
      "204/204 [==============================] - 80s 393ms/step - loss: 0.1503 - accuracy: 0.9453 - val_loss: 0.1354 - val_accuracy: 0.9556 - lr: 1.0000e-05\n",
      "Epoch 47/50\n",
      "204/204 [==============================] - 80s 394ms/step - loss: 0.1558 - accuracy: 0.9436 - val_loss: 0.1358 - val_accuracy: 0.9556 - lr: 1.0000e-05\n",
      "Epoch 48/50\n",
      "204/204 [==============================] - 80s 393ms/step - loss: 0.1534 - accuracy: 0.9472 - val_loss: 0.1361 - val_accuracy: 0.9556 - lr: 1.0000e-05\n",
      "Epoch 49/50\n",
      "204/204 [==============================] - 80s 394ms/step - loss: 0.1453 - accuracy: 0.9489 - val_loss: 0.1362 - val_accuracy: 0.9556 - lr: 1.0000e-05\n",
      "Epoch 50/50\n",
      "204/204 [==============================] - 81s 395ms/step - loss: 0.1503 - accuracy: 0.9492 - val_loss: 0.1358 - val_accuracy: 0.9556 - lr: 1.0000e-05\n"
     ]
    }
   ],
   "source": [
    "# Fit model\n",
    "epochs = 3 if FAST_RUN else 50\n",
    "\n",
    "history = model.fit_generator(\n",
    "    train_generator,\n",
    "    epochs= epochs,\n",
    "    validation_data= validation_generator,\n",
    "    validation_steps= total_validate//batch_size,\n",
    "    steps_per_epoch=total_train//batch_size,\n",
    "    callbacks=callbacks\n",
    ")\n"
   ]
  },
  {
   "cell_type": "code",
   "execution_count": 33,
   "metadata": {},
   "outputs": [],
   "source": [
    "model.save_weights(\"mask_model_ver3.h5\")"
   ]
  },
  {
   "cell_type": "code",
   "execution_count": 34,
   "metadata": {},
   "outputs": [
    {
     "data": {
      "image/png": "[encoded data removed]",
      "text/plain": [
       "<Figure size 864x864 with 2 Axes>"
      ]
     },
     "metadata": {
      "needs_background": "light"
     },
     "output_type": "display_data"
    }
   ],
   "source": [
    "# Virtualize Training\n",
    "fig, (ax1, ax2) = plt.subplots(2, 1, figsize=(12, 12))\n",
    "ax1.plot(history.history['loss'], color='b', label=\"Training loss\")\n",
    "ax1.plot(history.history['val_loss'], color='r', label=\"validation loss\")\n",
    "ax1.set_xticks(np.arange(1, epochs, 1))\n",
    "ax1.set_yticks(np.arange(0, 1, 0.1))\n",
    "\n",
    "ax2.plot(history.history['accuracy'], color='b', label=\"Training accuracy\")\n",
    "ax2.plot(history.history['val_accuracy'], color='r', label=\"Validation accuracy\")\n",
    "ax2.set_xticks(np.arange(1, epochs, 1))\n",
    "\n",
    "legend = plt.legend(loc='best', shadow=True)\n",
    "plt.tight_layout()\n",
    "plt.show()"
   ]
  },
  {
   "cell_type": "code",
   "execution_count": null,
   "metadata": {},
   "outputs": [],
   "source": []
  }
 ],
 "metadata": {
  "kernelspec": {
   "display_name": "Python 3",
   "language": "python",
   "name": "python3"
  },
  "language_info": {
   "codemirror_mode": {
    "name": "ipython",
    "version": 3
   },
   "file_extension": ".py",
   "mimetype": "text/x-python",
   "name": "python",
   "nbconvert_exporter": "python",
   "pygments_lexer": "ipython3",
   "version": "3.7.6"
  }
 },
 "nbformat": 4,
 "nbformat_minor": 4
}
