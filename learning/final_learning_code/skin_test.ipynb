{
 "cells": [
  {
   "cell_type": "code",
   "execution_count": 1,
   "metadata": {},
   "outputs": [],
   "source": [
    "import numpy as np\n",
    "import pandas as pd\n",
    "from keras.preprocessing.image import ImageDataGenerator, load_img\n",
    "from keras.utils import to_categorical\n",
    "from sklearn.model_selection import train_test_split\n",
    "import matplotlib.pyplot as plt\n",
    "import tensorflow as tf\n",
    "import random\n",
    "import os\n",
    "import natsort\n",
    "import warnings\n",
    "from tensorflow.keras.models import Sequential\n",
    "from tensorflow.keras.layers import Conv2D, MaxPooling2D, Dropout, Flatten, Dense, Activation, BatchNormalization\n",
    "warnings.filterwarnings('ignore')"
   ]
  },
  {
   "cell_type": "code",
   "execution_count": 2,
   "metadata": {},
   "outputs": [],
   "source": [
    "# Define constants\n",
    "FAST_RUN = False\n",
    "IMAGE_WIDTH = 128\n",
    "IMAGE_HEIGHT = 128\n",
    "IMAGE_SIZE=(IMAGE_WIDTH, IMAGE_HEIGHT)\n",
    "IMAGE_CHANNELS=3\n",
    "PIXELS = IMAGE_HEIGHT * IMAGE_WIDTH*3"
   ]
  },
  {
   "cell_type": "code",
   "execution_count": 4,
   "metadata": {},
   "outputs": [
    {
     "data": {
      "text/html": [
       "<div>\n",
       "<style scoped>\n",
       "    .dataframe tbody tr th:only-of-type {\n",
       "        vertical-align: middle;\n",
       "    }\n",
       "\n",
       "    .dataframe tbody tr th {\n",
       "        vertical-align: top;\n",
       "    }\n",
       "\n",
       "    .dataframe thead th {\n",
       "        text-align: right;\n",
       "    }\n",
       "</style>\n",
       "<table border=\"1\" class=\"dataframe\">\n",
       "  <thead>\n",
       "    <tr style=\"text-align: right;\">\n",
       "      <th></th>\n",
       "      <th>filename</th>\n",
       "      <th>category</th>\n",
       "    </tr>\n",
       "  </thead>\n",
       "  <tbody>\n",
       "    <tr>\n",
       "      <th>0</th>\n",
       "      <td>asian_glasses_000.png</td>\n",
       "      <td>1</td>\n",
       "    </tr>\n",
       "    <tr>\n",
       "      <th>1</th>\n",
       "      <td>asian_glasses_001.png</td>\n",
       "      <td>1</td>\n",
       "    </tr>\n",
       "    <tr>\n",
       "      <th>2</th>\n",
       "      <td>asian_glasses_002.png</td>\n",
       "      <td>1</td>\n",
       "    </tr>\n",
       "    <tr>\n",
       "      <th>3</th>\n",
       "      <td>asian_glasses_003.png</td>\n",
       "      <td>1</td>\n",
       "    </tr>\n",
       "    <tr>\n",
       "      <th>4</th>\n",
       "      <td>asian_glasses_004.png</td>\n",
       "      <td>1</td>\n",
       "    </tr>\n",
       "  </tbody>\n",
       "</table>\n",
       "</div>"
      ],
      "text/plain": [
       "                filename  category\n",
       "0  asian_glasses_000.png         1\n",
       "1  asian_glasses_001.png         1\n",
       "2  asian_glasses_002.png         1\n",
       "3  asian_glasses_003.png         1\n",
       "4  asian_glasses_004.png         1"
      ]
     },
     "execution_count": 4,
     "metadata": {},
     "output_type": "execute_result"
    }
   ],
   "source": [
    "di1 = \"../graduation_dataset/race2/test/\"\n",
    "\n",
    "filenames = os.listdir(di1)\n",
    "\n",
    "categories = []\n",
    "\n",
    "for filename in filenames:\n",
    "    category1 = filename.split('_')[0]\n",
    "    category2 = filename.split('_')[1]\n",
    "    category = category1 + \"_\" + category2\n",
    "    if category == 'asian_noglasses':\n",
    "        categories.append(0)\n",
    "    elif category == 'asian_glasses' :\n",
    "        categories.append(1)\n",
    "    elif category == 'black_noglasses' :\n",
    "        categories.append(2)\n",
    "    elif category == 'black_glasses' :\n",
    "        categories.append(3)\n",
    "    elif category == 'white_noglasses' :\n",
    "        categories.append(4)\n",
    "    elif category == 'white_glasses' :\n",
    "        categories.append(5)\n",
    "        \n",
    "df = pd.DataFrame({\n",
    "    'filename': filenames,\n",
    "    'category': categories\n",
    "})\n",
    "\n",
    "df.head()"
   ]
  },
  {
   "cell_type": "code",
   "execution_count": 5,
   "metadata": {},
   "outputs": [
    {
     "data": {
      "text/html": [
       "<div>\n",
       "<style scoped>\n",
       "    .dataframe tbody tr th:only-of-type {\n",
       "        vertical-align: middle;\n",
       "    }\n",
       "\n",
       "    .dataframe tbody tr th {\n",
       "        vertical-align: top;\n",
       "    }\n",
       "\n",
       "    .dataframe thead th {\n",
       "        text-align: right;\n",
       "    }\n",
       "</style>\n",
       "<table border=\"1\" class=\"dataframe\">\n",
       "  <thead>\n",
       "    <tr style=\"text-align: right;\">\n",
       "      <th></th>\n",
       "      <th>filename</th>\n",
       "      <th>category</th>\n",
       "    </tr>\n",
       "  </thead>\n",
       "  <tbody>\n",
       "    <tr>\n",
       "      <th>628</th>\n",
       "      <td>white_noglasses_098.png</td>\n",
       "      <td>4</td>\n",
       "    </tr>\n",
       "    <tr>\n",
       "      <th>629</th>\n",
       "      <td>white_noglasses_099.png</td>\n",
       "      <td>4</td>\n",
       "    </tr>\n",
       "    <tr>\n",
       "      <th>630</th>\n",
       "      <td>white_noglasses_100.png</td>\n",
       "      <td>4</td>\n",
       "    </tr>\n",
       "    <tr>\n",
       "      <th>631</th>\n",
       "      <td>white_noglasses_101.png</td>\n",
       "      <td>4</td>\n",
       "    </tr>\n",
       "    <tr>\n",
       "      <th>632</th>\n",
       "      <td>white_noglasses_102.png</td>\n",
       "      <td>4</td>\n",
       "    </tr>\n",
       "  </tbody>\n",
       "</table>\n",
       "</div>"
      ],
      "text/plain": [
       "                    filename  category\n",
       "628  white_noglasses_098.png         4\n",
       "629  white_noglasses_099.png         4\n",
       "630  white_noglasses_100.png         4\n",
       "631  white_noglasses_101.png         4\n",
       "632  white_noglasses_102.png         4"
      ]
     },
     "execution_count": 5,
     "metadata": {},
     "output_type": "execute_result"
    }
   ],
   "source": [
    "df.tail()"
   ]
  },
  {
   "cell_type": "code",
   "execution_count": 6,
   "metadata": {},
   "outputs": [
    {
     "data": {
      "text/plain": [
       "<matplotlib.axes._subplots.AxesSubplot at 0x23217c0bf48>"
      ]
     },
     "execution_count": 6,
     "metadata": {},
     "output_type": "execute_result"
    },
    {
     "data": {
      "image/png": "[encoded data removed]",
      "text/plain": [
       "<Figure size 432x288 with 1 Axes>"
      ]
     },
     "metadata": {
      "needs_background": "light"
     },
     "output_type": "display_data"
    }
   ],
   "source": [
    "df['category'].value_counts().plot.bar()"
   ]
  },
  {
   "cell_type": "code",
   "execution_count": 3,
   "metadata": {},
   "outputs": [
    {
     "name": "stdout",
     "output_type": "stream",
     "text": [
      "Model: \"sequential_2\"\n",
      "_________________________________________________________________\n",
      "Layer (type)                 Output Shape              Param #   \n",
      "=================================================================\n",
      "conv2d_4 (Conv2D)            (None, 126, 126, 32)      896       \n",
      "_________________________________________________________________\n",
      "max_pooling2d_3 (MaxPooling2 (None, 63, 63, 32)        0         \n",
      "_________________________________________________________________\n",
      "dropout_4 (Dropout)          (None, 63, 63, 32)        0         \n",
      "_________________________________________________________________\n",
      "conv2d_5 (Conv2D)            (None, 61, 61, 64)        18496     \n",
      "_________________________________________________________________\n",
      "max_pooling2d_4 (MaxPooling2 (None, 30, 30, 64)        0         \n",
      "_________________________________________________________________\n",
      "dropout_5 (Dropout)          (None, 30, 30, 64)        0         \n",
      "_________________________________________________________________\n",
      "conv2d_6 (Conv2D)            (None, 28, 28, 128)       73856     \n",
      "_________________________________________________________________\n",
      "max_pooling2d_5 (MaxPooling2 (None, 14, 14, 128)       0         \n",
      "_________________________________________________________________\n",
      "dropout_6 (Dropout)          (None, 14, 14, 128)       0         \n",
      "_________________________________________________________________\n",
      "flatten_1 (Flatten)          (None, 25088)             0         \n",
      "_________________________________________________________________\n",
      "dense_2 (Dense)              (None, 128)               3211392   \n",
      "_________________________________________________________________\n",
      "dropout_7 (Dropout)          (None, 128)               0         \n",
      "_________________________________________________________________\n",
      "dense_3 (Dense)              (None, 6)                 774       \n",
      "=================================================================\n",
      "Total params: 3,305,414\n",
      "Trainable params: 3,305,414\n",
      "Non-trainable params: 0\n",
      "_________________________________________________________________\n"
     ]
    }
   ],
   "source": [
    "from tensorflow.keras.models import Sequential\n",
    "from tensorflow.keras.layers import Conv2D, MaxPooling2D, Dropout, Flatten, Dense, Activation, BatchNormalization\n",
    "\n",
    "model = Sequential()\n",
    "\n",
    "model.add(Conv2D(32, kernel_size=(3, 3), activation = 'relu',input_shape = (128, 128, 3)))\n",
    "model.add(MaxPooling2D(pool_size=(2, 2)))\n",
    "model.add(Dropout(0.5))\n",
    "\n",
    "model.add(Conv2D(64,kernel_size=(3, 3), activation='relu'))\n",
    "model.add(MaxPooling2D(pool_size=(2, 2)))\n",
    "model.add(Dropout(0.5))\n",
    "\n",
    "model.add(Conv2D(128,kernel_size=(3, 3), activation='relu'))\n",
    "model.add(MaxPooling2D(pool_size=(2, 2)))\n",
    "model.add(Dropout(0.5))\n",
    "\n",
    "model.add(Flatten())\n",
    "model.add(Dense(128, activation='relu'))\n",
    "model.add(Dropout(0.5))\n",
    "model.add(Dense(6, activation = 'softmax'))\n",
    "\n",
    "model.compile(loss='categorical_crossentropy', optimizer='Adagrad', metrics=['accuracy'])\n",
    "\n",
    "model.summary()"
   ]
  },
  {
   "cell_type": "code",
   "execution_count": 115,
   "metadata": {},
   "outputs": [],
   "source": [
    "df[\"category\"] = df[\"category\"].replace({0: 'asian_noglasses', 1: 'asian_glasses', \n",
    "                                         2:'black_noglasses', 3: 'black_glasses', 4:'white_noglasses', \n",
    "                                        5:'white_glasses' })"
   ]
  },
  {
   "cell_type": "code",
   "execution_count": 116,
   "metadata": {},
   "outputs": [
    {
     "data": {
      "text/html": [
       "<div>\n",
       "<style scoped>\n",
       "    .dataframe tbody tr th:only-of-type {\n",
       "        vertical-align: middle;\n",
       "    }\n",
       "\n",
       "    .dataframe tbody tr th {\n",
       "        vertical-align: top;\n",
       "    }\n",
       "\n",
       "    .dataframe thead th {\n",
       "        text-align: right;\n",
       "    }\n",
       "</style>\n",
       "<table border=\"1\" class=\"dataframe\">\n",
       "  <thead>\n",
       "    <tr style=\"text-align: right;\">\n",
       "      <th></th>\n",
       "      <th>filename</th>\n",
       "      <th>category</th>\n",
       "    </tr>\n",
       "  </thead>\n",
       "  <tbody>\n",
       "    <tr>\n",
       "      <th>0</th>\n",
       "      <td>asian_glasses_000.png</td>\n",
       "      <td>asian_glasses</td>\n",
       "    </tr>\n",
       "    <tr>\n",
       "      <th>1</th>\n",
       "      <td>asian_glasses_001.png</td>\n",
       "      <td>asian_glasses</td>\n",
       "    </tr>\n",
       "    <tr>\n",
       "      <th>2</th>\n",
       "      <td>asian_glasses_002.png</td>\n",
       "      <td>asian_glasses</td>\n",
       "    </tr>\n",
       "    <tr>\n",
       "      <th>3</th>\n",
       "      <td>asian_glasses_003.png</td>\n",
       "      <td>asian_glasses</td>\n",
       "    </tr>\n",
       "    <tr>\n",
       "      <th>4</th>\n",
       "      <td>asian_glasses_004.png</td>\n",
       "      <td>asian_glasses</td>\n",
       "    </tr>\n",
       "  </tbody>\n",
       "</table>\n",
       "</div>"
      ],
      "text/plain": [
       "                filename       category\n",
       "0  asian_glasses_000.png  asian_glasses\n",
       "1  asian_glasses_001.png  asian_glasses\n",
       "2  asian_glasses_002.png  asian_glasses\n",
       "3  asian_glasses_003.png  asian_glasses\n",
       "4  asian_glasses_004.png  asian_glasses"
      ]
     },
     "execution_count": 116,
     "metadata": {},
     "output_type": "execute_result"
    }
   ],
   "source": [
    "df.head()"
   ]
  },
  {
   "cell_type": "code",
   "execution_count": 117,
   "metadata": {},
   "outputs": [],
   "source": [
    "train_df, validate_df = train_test_split(df, test_size=0.20, random_state=42)\n",
    "train_df = train_df.reset_index(drop=True)\n",
    "validate_df = validate_df.reset_index(drop=True)"
   ]
  },
  {
   "cell_type": "code",
   "execution_count": 118,
   "metadata": {},
   "outputs": [
    {
     "data": {
      "text/plain": [
       "<matplotlib.axes._subplots.AxesSubplot at 0x23224553488>"
      ]
     },
     "execution_count": 118,
     "metadata": {},
     "output_type": "execute_result"
    },
    {
     "data": {
      "image/png": "[encoded data removed]",
      "text/plain": [
       "<Figure size 432x288 with 1 Axes>"
      ]
     },
     "metadata": {
      "needs_background": "light"
     },
     "output_type": "display_data"
    }
   ],
   "source": [
    "train_df['category'].value_counts().plot.bar()"
   ]
  },
  {
   "cell_type": "code",
   "execution_count": 119,
   "metadata": {},
   "outputs": [
    {
     "data": {
      "text/plain": [
       "<matplotlib.axes._subplots.AxesSubplot at 0x23224591ac8>"
      ]
     },
     "execution_count": 119,
     "metadata": {},
     "output_type": "execute_result"
    },
    {
     "data": {
      "image/png": "[encoded data removed]",
      "text/plain": [
       "<Figure size 432x288 with 1 Axes>"
      ]
     },
     "metadata": {
      "needs_background": "light"
     },
     "output_type": "display_data"
    }
   ],
   "source": [
    "validate_df['category'].value_counts().plot.bar()"
   ]
  },
  {
   "cell_type": "code",
   "execution_count": 120,
   "metadata": {},
   "outputs": [],
   "source": [
    "total_train = train_df.shape[0]\n",
    "total_validate = validate_df.shape[0]\n",
    "batch_size=30"
   ]
  },
  {
   "cell_type": "code",
   "execution_count": 121,
   "metadata": {},
   "outputs": [
    {
     "name": "stdout",
     "output_type": "stream",
     "text": [
      "Found 506 validated image filenames belonging to 6 classes.\n"
     ]
    }
   ],
   "source": [
    "#Train Generator\n",
    "train_datagen = ImageDataGenerator(\n",
    "    rotation_range=15,\n",
    "    rescale=1./255,\n",
    "    shear_range=0.1,\n",
    "    zoom_range=0.2,\n",
    "    horizontal_flip=True,\n",
    "    width_shift_range=0.1,\n",
    "    height_shift_range=0.1\n",
    ")\n",
    "\n",
    "train_generator = train_datagen.flow_from_dataframe(\n",
    "     train_df,\n",
    "    di1,\n",
    "    x_col='filename',\n",
    "    y_col='category',\n",
    "    target_size=IMAGE_SIZE,\n",
    "    class_mode='categorical',\n",
    "    batch_size = batch_size\n",
    ")"
   ]
  },
  {
   "cell_type": "code",
   "execution_count": 122,
   "metadata": {},
   "outputs": [
    {
     "name": "stdout",
     "output_type": "stream",
     "text": [
      "Found 127 validated image filenames belonging to 6 classes.\n"
     ]
    }
   ],
   "source": [
    "# Validation Generator\n",
    "validation_datagen = ImageDataGenerator(rescale=1./255)\n",
    "validation_generator = validation_datagen.flow_from_dataframe(\n",
    "    validate_df,\n",
    "    di1,\n",
    "    x_col='filename',\n",
    "    y_col='category',\n",
    "    target_size=IMAGE_SIZE,\n",
    "    class_mode='categorical',\n",
    "    batch_size = batch_size\n",
    ")\n"
   ]
  },
  {
   "cell_type": "code",
   "execution_count": 123,
   "metadata": {},
   "outputs": [
    {
     "name": "stdout",
     "output_type": "stream",
     "text": [
      "Found 1 validated image filenames belonging to 1 classes.\n"
     ]
    }
   ],
   "source": [
    "#See how our generator work\n",
    "\n",
    "example_df = train_df.sample(n=1).reset_index(drop=True)\n",
    "example_generator = train_datagen.flow_from_dataframe(\n",
    "    example_df,\n",
    "    di1,\n",
    "    x_col='filename',\n",
    "    y_col='category',\n",
    "    target_size=IMAGE_SIZE,\n",
    "    class_mode='categorical',\n",
    ")"
   ]
  },
  {
   "cell_type": "code",
   "execution_count": 124,
   "metadata": {},
   "outputs": [
    {
     "name": "stdout",
     "output_type": "stream",
     "text": [
      "Epoch 1/100\n",
      "16/16 [==============================] - 20s 1s/step - loss: 2.2005 - accuracy: 0.1954 - val_loss: 1.7876 - val_accuracy: 0.1333\n",
      "Epoch 2/100\n",
      "16/16 [==============================] - 19s 1s/step - loss: 1.7554 - accuracy: 0.1979 - val_loss: 1.7848 - val_accuracy: 0.2333\n",
      "Epoch 3/100\n",
      "16/16 [==============================] - 20s 1s/step - loss: 1.7462 - accuracy: 0.2269 - val_loss: 1.7845 - val_accuracy: 0.3500\n",
      "Epoch 4/100\n",
      "16/16 [==============================] - 23s 1s/step - loss: 1.7224 - accuracy: 0.2353 - val_loss: 1.7772 - val_accuracy: 0.3167\n",
      "Epoch 5/100\n",
      "16/16 [==============================] - 25s 2s/step - loss: 1.7176 - accuracy: 0.2521 - val_loss: 1.7690 - val_accuracy: 0.3750\n",
      "Epoch 6/100\n",
      "16/16 [==============================] - 25s 2s/step - loss: 1.6622 - accuracy: 0.3130 - val_loss: 1.7503 - val_accuracy: 0.4500\n",
      "Epoch 7/100\n",
      "16/16 [==============================] - 20s 1s/step - loss: 1.6164 - accuracy: 0.3172 - val_loss: 1.7334 - val_accuracy: 0.3583\n",
      "Epoch 8/100\n",
      "16/16 [==============================] - 24s 2s/step - loss: 1.5559 - accuracy: 0.3613 - val_loss: 1.7066 - val_accuracy: 0.3833\n",
      "Epoch 9/100\n",
      "16/16 [==============================] - 23s 1s/step - loss: 1.5207 - accuracy: 0.3487 - val_loss: 1.6732 - val_accuracy: 0.4167\n",
      "Epoch 10/100\n",
      "16/16 [==============================] - 27s 2s/step - loss: 1.4856 - accuracy: 0.3697 - val_loss: 1.6617 - val_accuracy: 0.3917\n",
      "Epoch 11/100\n",
      "16/16 [==============================] - 21s 1s/step - loss: 1.4602 - accuracy: 0.4097 - val_loss: 1.6400 - val_accuracy: 0.3917\n",
      "Epoch 12/100\n",
      "16/16 [==============================] - 23s 1s/step - loss: 1.4339 - accuracy: 0.4307 - val_loss: 1.6222 - val_accuracy: 0.4167\n",
      "Epoch 13/100\n",
      "16/16 [==============================] - 19s 1s/step - loss: 1.4423 - accuracy: 0.4286 - val_loss: 1.6103 - val_accuracy: 0.4667\n",
      "Epoch 14/100\n",
      "16/16 [==============================] - 19s 1s/step - loss: 1.4174 - accuracy: 0.4244 - val_loss: 1.5894 - val_accuracy: 0.4500\n",
      "Epoch 15/100\n",
      "16/16 [==============================] - 19s 1s/step - loss: 1.3700 - accuracy: 0.4391 - val_loss: 1.5839 - val_accuracy: 0.4333\n",
      "Epoch 16/100\n",
      "16/16 [==============================] - 19s 1s/step - loss: 1.3905 - accuracy: 0.4370 - val_loss: 1.5703 - val_accuracy: 0.4500\n",
      "Epoch 17/100\n",
      "16/16 [==============================] - 19s 1s/step - loss: 1.3678 - accuracy: 0.4286 - val_loss: 1.5546 - val_accuracy: 0.4583\n",
      "Epoch 18/100\n",
      "16/16 [==============================] - 25s 2s/step - loss: 1.3594 - accuracy: 0.4370 - val_loss: 1.5544 - val_accuracy: 0.4667\n",
      "Epoch 19/100\n",
      "16/16 [==============================] - 23s 1s/step - loss: 1.3738 - accuracy: 0.4412 - val_loss: 1.5558 - val_accuracy: 0.4333\n",
      "Epoch 20/100\n",
      "16/16 [==============================] - 23s 1s/step - loss: 1.3600 - accuracy: 0.4307 - val_loss: 1.5487 - val_accuracy: 0.4500\n",
      "Epoch 21/100\n",
      "16/16 [==============================] - 20s 1s/step - loss: 1.3198 - accuracy: 0.4622 - val_loss: 1.5251 - val_accuracy: 0.4583\n",
      "Epoch 22/100\n",
      "16/16 [==============================] - 20s 1s/step - loss: 1.3124 - accuracy: 0.4853 - val_loss: 1.5151 - val_accuracy: 0.4917\n",
      "Epoch 23/100\n",
      "16/16 [==============================] - 21s 1s/step - loss: 1.3067 - accuracy: 0.4583 - val_loss: 1.4979 - val_accuracy: 0.5083\n",
      "Epoch 24/100\n",
      "16/16 [==============================] - 20s 1s/step - loss: 1.3286 - accuracy: 0.4706 - val_loss: 1.4994 - val_accuracy: 0.4750\n",
      "Epoch 25/100\n",
      "16/16 [==============================] - 20s 1s/step - loss: 1.2608 - accuracy: 0.5021 - val_loss: 1.4823 - val_accuracy: 0.4750\n",
      "Epoch 26/100\n",
      "16/16 [==============================] - 21s 1s/step - loss: 1.2535 - accuracy: 0.4811 - val_loss: 1.4777 - val_accuracy: 0.4917\n",
      "Epoch 27/100\n",
      "16/16 [==============================] - 20s 1s/step - loss: 1.2744 - accuracy: 0.4667 - val_loss: 1.4653 - val_accuracy: 0.4917\n",
      "Epoch 28/100\n",
      "16/16 [==============================] - 21s 1s/step - loss: 1.2500 - accuracy: 0.4646 - val_loss: 1.4608 - val_accuracy: 0.4917\n",
      "Epoch 29/100\n",
      "16/16 [==============================] - 25s 2s/step - loss: 1.2342 - accuracy: 0.4958 - val_loss: 1.4690 - val_accuracy: 0.4250\n",
      "Epoch 30/100\n",
      "16/16 [==============================] - 23s 1s/step - loss: 1.2668 - accuracy: 0.4475 - val_loss: 1.4426 - val_accuracy: 0.4917\n",
      "Epoch 31/100\n",
      "16/16 [==============================] - 25s 2s/step - loss: 1.2326 - accuracy: 0.4664 - val_loss: 1.4374 - val_accuracy: 0.4917\n",
      "Epoch 32/100\n",
      "16/16 [==============================] - 27s 2s/step - loss: 1.2022 - accuracy: 0.4895 - val_loss: 1.4088 - val_accuracy: 0.5333\n",
      "Epoch 33/100\n",
      "16/16 [==============================] - 20s 1s/step - loss: 1.1988 - accuracy: 0.5168 - val_loss: 1.4022 - val_accuracy: 0.5500\n",
      "Epoch 34/100\n",
      "16/16 [==============================] - 20s 1s/step - loss: 1.1778 - accuracy: 0.5189 - val_loss: 1.4021 - val_accuracy: 0.4833\n",
      "Epoch 35/100\n",
      "16/16 [==============================] - 22s 1s/step - loss: 1.1690 - accuracy: 0.5483 - val_loss: 1.3940 - val_accuracy: 0.5000\n",
      "Epoch 36/100\n",
      "16/16 [==============================] - 21s 1s/step - loss: 1.1612 - accuracy: 0.5000 - val_loss: 1.3788 - val_accuracy: 0.5333\n",
      "Epoch 37/100\n",
      "16/16 [==============================] - 20s 1s/step - loss: 1.1578 - accuracy: 0.5420 - val_loss: 1.3609 - val_accuracy: 0.5417\n",
      "Epoch 38/100\n",
      "16/16 [==============================] - 20s 1s/step - loss: 1.1226 - accuracy: 0.5273 - val_loss: 1.3634 - val_accuracy: 0.5083\n",
      "Epoch 39/100\n",
      "16/16 [==============================] - 22s 1s/step - loss: 1.1582 - accuracy: 0.5441 - val_loss: 1.3714 - val_accuracy: 0.4667\n",
      "Epoch 40/100\n",
      "16/16 [==============================] - 21s 1s/step - loss: 1.1978 - accuracy: 0.4811 - val_loss: 1.3608 - val_accuracy: 0.5500\n",
      "Epoch 41/100\n",
      "16/16 [==============================] - 25s 2s/step - loss: 1.1645 - accuracy: 0.5294 - val_loss: 1.3679 - val_accuracy: 0.4667\n",
      "Epoch 42/100\n",
      "16/16 [==============================] - 21s 1s/step - loss: 1.1155 - accuracy: 0.5315 - val_loss: 1.3493 - val_accuracy: 0.4833\n",
      "Epoch 43/100\n",
      "16/16 [==============================] - 24s 1s/step - loss: 1.0877 - accuracy: 0.5420 - val_loss: 1.3379 - val_accuracy: 0.5167\n",
      "Epoch 44/100\n",
      "16/16 [==============================] - 22s 1s/step - loss: 1.1469 - accuracy: 0.5168 - val_loss: 1.3606 - val_accuracy: 0.4583\n",
      "Epoch 45/100\n",
      "16/16 [==============================] - 23s 1s/step - loss: 1.1048 - accuracy: 0.5231 - val_loss: 1.3591 - val_accuracy: 0.4500\n",
      "Epoch 46/100\n",
      "16/16 [==============================] - 27s 2s/step - loss: 1.1255 - accuracy: 0.5168 - val_loss: 1.3102 - val_accuracy: 0.5417\n",
      "Epoch 47/100\n",
      "16/16 [==============================] - 20s 1s/step - loss: 1.1193 - accuracy: 0.5567 - val_loss: 1.3227 - val_accuracy: 0.5167\n",
      "Epoch 48/100\n",
      "16/16 [==============================] - 20s 1s/step - loss: 1.1157 - accuracy: 0.5420 - val_loss: 1.3288 - val_accuracy: 0.4833\n",
      "Epoch 49/100\n",
      "16/16 [==============================] - 20s 1s/step - loss: 1.1345 - accuracy: 0.5294 - val_loss: 1.2897 - val_accuracy: 0.5833\n",
      "Epoch 50/100\n",
      "16/16 [==============================] - 19s 1s/step - loss: 1.1030 - accuracy: 0.5483 - val_loss: 1.3614 - val_accuracy: 0.4333\n",
      "Epoch 51/100\n",
      "16/16 [==============================] - 19s 1s/step - loss: 1.1489 - accuracy: 0.5126 - val_loss: 1.3425 - val_accuracy: 0.4417\n",
      "Epoch 52/100\n",
      "16/16 [==============================] - 19s 1s/step - loss: 1.1019 - accuracy: 0.5462 - val_loss: 1.2979 - val_accuracy: 0.5667\n",
      "Epoch 53/100\n",
      "16/16 [==============================] - 21s 1s/step - loss: 1.1148 - accuracy: 0.5210 - val_loss: 1.2880 - val_accuracy: 0.5083\n",
      "Epoch 54/100\n",
      "16/16 [==============================] - 20s 1s/step - loss: 1.0540 - accuracy: 0.5693 - val_loss: 1.3005 - val_accuracy: 0.4917\n",
      "Epoch 55/100\n",
      "16/16 [==============================] - 13s 833ms/step - loss: 1.0678 - accuracy: 0.5945 - val_loss: 1.2680 - val_accuracy: 0.5583\n",
      "Epoch 56/100\n",
      "16/16 [==============================] - 13s 788ms/step - loss: 1.0527 - accuracy: 0.5756 - val_loss: 1.2690 - val_accuracy: 0.5250\n",
      "Epoch 57/100\n",
      "16/16 [==============================] - 13s 786ms/step - loss: 1.0648 - accuracy: 0.5483 - val_loss: 1.2914 - val_accuracy: 0.4917\n",
      "Epoch 58/100\n",
      "16/16 [==============================] - 11s 713ms/step - loss: 1.0713 - accuracy: 0.5567 - val_loss: 1.2776 - val_accuracy: 0.5167\n"
     ]
    },
    {
     "name": "stdout",
     "output_type": "stream",
     "text": [
      "Epoch 59/100\n",
      "16/16 [==============================] - 11s 712ms/step - loss: 1.0239 - accuracy: 0.5609 - val_loss: 1.2575 - val_accuracy: 0.5333\n",
      "Epoch 60/100\n",
      "16/16 [==============================] - 12s 749ms/step - loss: 1.0641 - accuracy: 0.5567 - val_loss: 1.2663 - val_accuracy: 0.5083\n",
      "Epoch 61/100\n",
      "16/16 [==============================] - 13s 825ms/step - loss: 1.0675 - accuracy: 0.5462 - val_loss: 1.3030 - val_accuracy: 0.4750\n",
      "Epoch 62/100\n",
      "16/16 [==============================] - 23s 1s/step - loss: 1.0149 - accuracy: 0.5840 - val_loss: 1.2688 - val_accuracy: 0.5667\n",
      "Epoch 63/100\n",
      "16/16 [==============================] - 27s 2s/step - loss: 1.0244 - accuracy: 0.5777 - val_loss: 1.2482 - val_accuracy: 0.5583\n",
      "Epoch 64/100\n",
      "16/16 [==============================] - 22s 1s/step - loss: 1.0163 - accuracy: 0.6050 - val_loss: 1.2719 - val_accuracy: 0.4750\n",
      "Epoch 65/100\n",
      "16/16 [==============================] - 20s 1s/step - loss: 1.0385 - accuracy: 0.5924 - val_loss: 1.2820 - val_accuracy: 0.4833\n",
      "Epoch 66/100\n",
      "16/16 [==============================] - 21s 1s/step - loss: 1.0215 - accuracy: 0.5756 - val_loss: 1.2948 - val_accuracy: 0.4750\n",
      "Epoch 67/100\n",
      "16/16 [==============================] - 26s 2s/step - loss: 1.0661 - accuracy: 0.5798 - val_loss: 1.2544 - val_accuracy: 0.5083\n",
      "Epoch 68/100\n",
      "16/16 [==============================] - 23s 1s/step - loss: 1.0103 - accuracy: 0.5966 - val_loss: 1.2584 - val_accuracy: 0.4917\n",
      "Epoch 69/100\n",
      "16/16 [==============================] - 24s 1s/step - loss: 1.0029 - accuracy: 0.5735 - val_loss: 1.2234 - val_accuracy: 0.5583\n",
      "Epoch 70/100\n",
      "16/16 [==============================] - 23s 1s/step - loss: 1.0001 - accuracy: 0.6008 - val_loss: 1.2433 - val_accuracy: 0.5500\n",
      "Epoch 71/100\n",
      "16/16 [==============================] - 25s 2s/step - loss: 0.9934 - accuracy: 0.6029 - val_loss: 1.2125 - val_accuracy: 0.5667\n",
      "Epoch 72/100\n",
      "16/16 [==============================] - 24s 2s/step - loss: 1.0032 - accuracy: 0.5945 - val_loss: 1.2275 - val_accuracy: 0.5583\n",
      "Epoch 73/100\n",
      "16/16 [==============================] - 25s 2s/step - loss: 0.9920 - accuracy: 0.6282 - val_loss: 1.2254 - val_accuracy: 0.5583\n",
      "Epoch 74/100\n",
      "16/16 [==============================] - 20s 1s/step - loss: 1.0029 - accuracy: 0.6155 - val_loss: 1.2469 - val_accuracy: 0.5000\n",
      "Epoch 75/100\n",
      "16/16 [==============================] - 20s 1s/step - loss: 1.0179 - accuracy: 0.5609 - val_loss: 1.2836 - val_accuracy: 0.4833\n",
      "Epoch 76/100\n",
      "16/16 [==============================] - 22s 1s/step - loss: 1.0041 - accuracy: 0.5588 - val_loss: 1.2451 - val_accuracy: 0.5250\n",
      "Epoch 77/100\n",
      "16/16 [==============================] - 23s 1s/step - loss: 1.0025 - accuracy: 0.5924 - val_loss: 1.2525 - val_accuracy: 0.5167\n",
      "Epoch 78/100\n",
      "16/16 [==============================] - 23s 1s/step - loss: 1.0145 - accuracy: 0.5882 - val_loss: 1.2275 - val_accuracy: 0.5583\n",
      "Epoch 79/100\n",
      "16/16 [==============================] - 24s 1s/step - loss: 0.9691 - accuracy: 0.5903 - val_loss: 1.2210 - val_accuracy: 0.5500\n",
      "Epoch 80/100\n",
      "16/16 [==============================] - 22s 1s/step - loss: 0.9879 - accuracy: 0.6239 - val_loss: 1.2070 - val_accuracy: 0.5500\n",
      "Epoch 81/100\n",
      "16/16 [==============================] - 21s 1s/step - loss: 1.0262 - accuracy: 0.5924 - val_loss: 1.2315 - val_accuracy: 0.5333\n",
      "Epoch 82/100\n",
      "16/16 [==============================] - 26s 2s/step - loss: 0.9427 - accuracy: 0.6071 - val_loss: 1.2106 - val_accuracy: 0.5583\n",
      "Epoch 83/100\n",
      "16/16 [==============================] - 26s 2s/step - loss: 0.9897 - accuracy: 0.5924 - val_loss: 1.2589 - val_accuracy: 0.5000\n",
      "Epoch 84/100\n",
      "16/16 [==============================] - 22s 1s/step - loss: 0.9665 - accuracy: 0.6492 - val_loss: 1.1994 - val_accuracy: 0.5833\n",
      "Epoch 85/100\n",
      "16/16 [==============================] - 22s 1s/step - loss: 0.9759 - accuracy: 0.5819 - val_loss: 1.2287 - val_accuracy: 0.5417\n",
      "Epoch 86/100\n",
      "16/16 [==============================] - 21s 1s/step - loss: 0.9623 - accuracy: 0.6050 - val_loss: 1.2277 - val_accuracy: 0.5417\n",
      "Epoch 87/100\n",
      "16/16 [==============================] - 25s 2s/step - loss: 0.9774 - accuracy: 0.6366 - val_loss: 1.2167 - val_accuracy: 0.5417\n",
      "Epoch 88/100\n",
      "16/16 [==============================] - 23s 1s/step - loss: 0.9951 - accuracy: 0.5672 - val_loss: 1.2181 - val_accuracy: 0.5500\n",
      "Epoch 89/100\n",
      "16/16 [==============================] - 26s 2s/step - loss: 0.9543 - accuracy: 0.6134 - val_loss: 1.1826 - val_accuracy: 0.5917\n",
      "Epoch 90/100\n",
      "16/16 [==============================] - 26s 2s/step - loss: 0.9650 - accuracy: 0.6218 - val_loss: 1.1592 - val_accuracy: 0.6000\n",
      "Epoch 91/100\n",
      "16/16 [==============================] - 23s 1s/step - loss: 0.9745 - accuracy: 0.6197 - val_loss: 1.1819 - val_accuracy: 0.5833\n",
      "Epoch 92/100\n",
      "16/16 [==============================] - 23s 1s/step - loss: 0.9670 - accuracy: 0.5840 - val_loss: 1.1852 - val_accuracy: 0.5750\n",
      "Epoch 93/100\n",
      "16/16 [==============================] - 25s 2s/step - loss: 0.9783 - accuracy: 0.6218 - val_loss: 1.2180 - val_accuracy: 0.5417\n",
      "Epoch 94/100\n",
      "16/16 [==============================] - 22s 1s/step - loss: 0.9164 - accuracy: 0.6387 - val_loss: 1.2018 - val_accuracy: 0.5667\n",
      "Epoch 95/100\n",
      "16/16 [==============================] - 23s 1s/step - loss: 0.9419 - accuracy: 0.6239 - val_loss: 1.1801 - val_accuracy: 0.5583\n",
      "Epoch 96/100\n",
      "16/16 [==============================] - 22s 1s/step - loss: 0.9839 - accuracy: 0.6029 - val_loss: 1.1861 - val_accuracy: 0.5583\n",
      "Epoch 97/100\n",
      "16/16 [==============================] - 23s 1s/step - loss: 0.9269 - accuracy: 0.6387 - val_loss: 1.2217 - val_accuracy: 0.5417\n",
      "Epoch 98/100\n",
      "16/16 [==============================] - 25s 2s/step - loss: 0.9339 - accuracy: 0.5987 - val_loss: 1.1426 - val_accuracy: 0.5833\n",
      "Epoch 99/100\n",
      "16/16 [==============================] - 24s 1s/step - loss: 0.8822 - accuracy: 0.6513 - val_loss: 1.2125 - val_accuracy: 0.5500\n",
      "Epoch 100/100\n",
      "16/16 [==============================] - 25s 2s/step - loss: 0.9532 - accuracy: 0.6134 - val_loss: 1.2631 - val_accuracy: 0.5000\n"
     ]
    }
   ],
   "source": [
    "# Fit model\n",
    "epochs = 3 if FAST_RUN else 100\n",
    "\n",
    "history = model.fit_generator(\n",
    "    train_generator,\n",
    "    epochs= epochs,\n",
    "    validation_data= validation_generator,\n",
    "    validation_steps= total_validate//batch_size,\n",
    "    steps_per_epoch=total_train//batch_size,\n",
    ")"
   ]
  },
  {
   "cell_type": "code",
   "execution_count": 125,
   "metadata": {},
   "outputs": [],
   "source": [
    "model.save_weights(\"skin_model_batch_1_epoch_50_adagrad.h5\")"
   ]
  },
  {
   "cell_type": "code",
   "execution_count": 126,
   "metadata": {},
   "outputs": [
    {
     "data": {
      "image/png": "[encoded data removed]",
      "text/plain": [
       "<Figure size 864x864 with 2 Axes>"
      ]
     },
     "metadata": {
      "needs_background": "light"
     },
     "output_type": "display_data"
    }
   ],
   "source": [
    "# Virtualize Training\n",
    "fig, (ax1, ax2) = plt.subplots(2, 1, figsize=(12, 12))\n",
    "ax1.plot(history.history['loss'], color='b', label=\"Training loss\")\n",
    "ax1.plot(history.history['val_loss'], color='r', label=\"validation loss\")\n",
    "ax1.set_xticks(np.arange(1, epochs, 1))\n",
    "ax1.set_yticks(np.arange(0, 1, 0.1))\n",
    "\n",
    "ax2.plot(history.history['accuracy'], color='b', label=\"Training accuracy\")\n",
    "ax2.plot(history.history['val_accuracy'], color='r', label=\"Validation accuracy\")\n",
    "ax2.set_xticks(np.arange(1, epochs, 1))\n",
    "\n",
    "legend = plt.legend(loc='best', shadow=True)\n",
    "plt.tight_layout()\n",
    "plt.show()"
   ]
  },
  {
   "cell_type": "code",
   "execution_count": 24,
   "metadata": {
    "scrolled": true
   },
   "outputs": [
    {
     "name": "stdout",
     "output_type": "stream",
     "text": [
      "asian_000.png\n",
      "예측: \n",
      "black\n",
      "[  33. 1025.    5.]\n",
      "#############################\n",
      "asian_001.png\n",
      "예측: \n",
      "black\n",
      "[ 52. 223.  12.]\n",
      "#############################\n",
      "asian_002.jpg\n",
      "예측: \n",
      "asian\n",
      "[3334.  371.   83.]\n",
      "#############################\n",
      "asian_007.png\n",
      "예측: \n",
      "black\n",
      "[   0. 7045.    0.]\n",
      "#############################\n",
      "asian_008.png\n",
      "예측: \n",
      "black\n",
      "[   0. 5537.    0.]\n",
      "#############################\n",
      "asian_009.png\n",
      "예측: \n",
      "black\n",
      "[2.000e+00 5.061e+03 0.000e+00]\n",
      "#############################\n",
      "asian_022.png\n",
      "예측: \n",
      "black\n",
      "[   0. 4409.    0.]\n",
      "#############################\n",
      "asian_023.png\n",
      "예측: \n",
      "black\n",
      "[ 21. 688.  13.]\n",
      "#############################\n",
      "asian_024.png\n",
      "예측: \n",
      "black\n",
      "[202. 357.  68.]\n",
      "#############################\n",
      "asian_028.png\n",
      "예측: \n",
      "black\n",
      "[   5. 1594.    2.]\n",
      "#############################\n",
      "black_023.png\n",
      "예측: \n",
      "black\n",
      "[1.000e+00 3.846e+03 1.000e+00]\n",
      "#############################\n",
      "black_024.png\n",
      "예측: \n",
      "black\n",
      "[1.000e+00 2.671e+03 1.000e+00]\n",
      "#############################\n",
      "black_025.png\n",
      "예측: \n",
      "black\n",
      "[   0. 3793.    0.]\n",
      "#############################\n",
      "black_026.png\n",
      "예측: \n",
      "black\n",
      "[   0. 6019.    0.]\n",
      "#############################\n",
      "black_031.png\n",
      "예측: \n",
      "black\n",
      "[   0. 5764.    0.]\n",
      "#############################\n",
      "black_033.png\n",
      "예측: \n",
      "black\n",
      "[   0. 1172.    0.]\n",
      "#############################\n",
      "black_037.png\n",
      "예측: \n",
      "black\n",
      "[   0. 3675.    0.]\n",
      "#############################\n",
      "black_040.png\n",
      "예측: \n",
      "black\n",
      "[   0. 3615.    0.]\n",
      "#############################\n",
      "white_000.png\n",
      "예측: \n",
      "black\n",
      "[  58. 1581.    2.]\n",
      "#############################\n",
      "white_004.png\n",
      "예측: \n",
      "black\n",
      "[2.000e+00 6.007e+03 1.000e+00]\n",
      "#############################\n",
      "white_005.png\n",
      "예측: \n",
      "black\n",
      "[   6. 1818.    0.]\n",
      "#############################\n",
      "white_006.png\n",
      "예측: \n",
      "black\n",
      "[  87. 1263.   51.]\n",
      "#############################\n",
      "white_013.png\n",
      "예측: \n",
      "black\n",
      "[ 900. 4988.   12.]\n",
      "#############################\n",
      "white_015.png\n",
      "예측: \n",
      "black\n",
      "[2578. 3804.  186.]\n",
      "#############################\n",
      "white_016.png\n",
      "예측: \n",
      "black\n",
      "[ 190. 3488.    0.]\n",
      "#############################\n"
     ]
    }
   ],
   "source": [
    "from PIL import Image\n",
    "import numpy as np\n",
    "from skimage import transform\n",
    "from imutils.face_utils import FaceAligner\n",
    "from imutils.face_utils import rect_to_bb\n",
    "import imutils\n",
    "import dlib\n",
    "import cv2\n",
    "\n",
    "def load(filename):\n",
    "   np_image = Image.open(filename)\n",
    "   np_image = np.array(np_image).astype('float32')/255\n",
    "   np_image = transform.resize(np_image, (128, 128, 3))\n",
    "   np_image = np.expand_dims(np_image, axis=0)\n",
    "   return np_image\n",
    "file_path = '../graduation_dataset/race_test/'\n",
    "filenames = os.listdir(file_path)\n",
    "for filename in filenames:\n",
    "    filepath = ''\n",
    "    filepath = file_path + filename\n",
    "    image = load(filepath)\n",
    "    \n",
    "    \n",
    "    result = model.predict(image)\n",
    "    \n",
    "    result[0][0] = int(result[0][0]*10000)\n",
    "    result[0][1] = int(result[0][1]*10000)\n",
    "    result[0][2] = int(result[0][2]*10000) \n",
    "    \n",
    "    print(filename)\n",
    "    print('예측: ')\n",
    "    if max(result[0]) == result[0][0]:\n",
    "        print('asian')\n",
    "    elif max(result[0]) == result[0][1]:\n",
    "        print('black')\n",
    "    else:\n",
    "        print('white')\n",
    "    print(result[0])\n",
    "    print('#############################')\n"
   ]
  },
  {
   "cell_type": "code",
   "execution_count": null,
   "metadata": {},
   "outputs": [],
   "source": []
  }
 ],
 "metadata": {
  "kernelspec": {
   "display_name": "Python 3",
   "language": "python",
   "name": "python3"
  },
  "language_info": {
   "codemirror_mode": {
    "name": "ipython",
    "version": 3
   },
   "file_extension": ".py",
   "mimetype": "text/x-python",
   "name": "python",
   "nbconvert_exporter": "python",
   "pygments_lexer": "ipython3",
   "version": "3.7.6"
  }
 },
 "nbformat": 4,
 "nbformat_minor": 4
}
