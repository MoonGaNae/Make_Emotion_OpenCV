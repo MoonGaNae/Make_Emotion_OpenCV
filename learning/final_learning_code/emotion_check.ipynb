{
 "cells": [
  {
   "cell_type": "code",
   "execution_count": 21,
   "metadata": {},
   "outputs": [],
   "source": [
    "import numpy as np\n",
    "import pandas as pd\n",
    "from keras.preprocessing.image import ImageDataGenerator, load_img\n",
    "from keras.utils import to_categorical\n",
    "from sklearn.model_selection import train_test_split\n",
    "import matplotlib.pyplot as plt\n",
    "import tensorflow as tf\n",
    "import random\n",
    "import os\n",
    "import natsort\n",
    "import warnings\n",
    "warnings.filterwarnings('ignore')"
   ]
  },
  {
   "cell_type": "code",
   "execution_count": 22,
   "metadata": {},
   "outputs": [],
   "source": [
    "# Define constants\n",
    "FAST_RUN = False\n",
    "IMAGE_WIDTH = 48\n",
    "IMAGE_HEIGHT = 48\n",
    "IMAGE_SIZE=(IMAGE_WIDTH, IMAGE_HEIGHT)\n",
    "IMAGE_CHANNELS=1\n",
    "PIXELS = IMAGE_HEIGHT * IMAGE_WIDTH*3"
   ]
  },
  {
   "cell_type": "code",
   "execution_count": 23,
   "metadata": {},
   "outputs": [
    {
     "name": "stdout",
     "output_type": "stream",
     "text": [
      "Model: \"sequential_1\"\n",
      "_________________________________________________________________\n",
      "Layer (type)                 Output Shape              Param #   \n",
      "=================================================================\n",
      "conv2d_4 (Conv2D)            (None, 46, 46, 32)        320       \n",
      "_________________________________________________________________\n",
      "conv2d_5 (Conv2D)            (None, 44, 44, 64)        18496     \n",
      "_________________________________________________________________\n",
      "max_pooling2d_3 (MaxPooling2 (None, 22, 22, 64)        0         \n",
      "_________________________________________________________________\n",
      "dropout_3 (Dropout)          (None, 22, 22, 64)        0         \n",
      "_________________________________________________________________\n",
      "conv2d_6 (Conv2D)            (None, 20, 20, 128)       73856     \n",
      "_________________________________________________________________\n",
      "max_pooling2d_4 (MaxPooling2 (None, 10, 10, 128)       0         \n",
      "_________________________________________________________________\n",
      "conv2d_7 (Conv2D)            (None, 8, 8, 128)         147584    \n",
      "_________________________________________________________________\n",
      "max_pooling2d_5 (MaxPooling2 (None, 4, 4, 128)         0         \n",
      "_________________________________________________________________\n",
      "dropout_4 (Dropout)          (None, 4, 4, 128)         0         \n",
      "_________________________________________________________________\n",
      "flatten_1 (Flatten)          (None, 2048)              0         \n",
      "_________________________________________________________________\n",
      "dense_2 (Dense)              (None, 1024)              2098176   \n",
      "_________________________________________________________________\n",
      "dropout_5 (Dropout)          (None, 1024)              0         \n",
      "_________________________________________________________________\n",
      "dense_3 (Dense)              (None, 7)                 7175      \n",
      "=================================================================\n",
      "Total params: 2,345,607\n",
      "Trainable params: 2,345,607\n",
      "Non-trainable params: 0\n",
      "_________________________________________________________________\n"
     ]
    }
   ],
   "source": [
    "from tensorflow.keras.models import Sequential\n",
    "from tensorflow.keras.layers import Conv2D, MaxPooling2D, Dropout, Flatten, Dense, Activation, BatchNormalization\n",
    "\n",
    "# Create the model\n",
    "model = Sequential()\n",
    "\n",
    "model.add(Conv2D(32, kernel_size=(3, 3), activation='relu', input_shape=(48,48,1)))\n",
    "model.add(Conv2D(64, kernel_size=(3, 3), activation='relu'))\n",
    "model.add(MaxPooling2D(pool_size=(2, 2)))\n",
    "model.add(Dropout(0.25))\n",
    "\n",
    "model.add(Conv2D(128, kernel_size=(3, 3), activation='relu'))\n",
    "model.add(MaxPooling2D(pool_size=(2, 2)))\n",
    "model.add(Conv2D(128, kernel_size=(3, 3), activation='relu'))\n",
    "model.add(MaxPooling2D(pool_size=(2, 2)))\n",
    "model.add(Dropout(0.25))\n",
    "\n",
    "model.add(Flatten())\n",
    "model.add(Dense(1024, activation='relu'))\n",
    "model.add(Dropout(0.5))\n",
    "model.add(Dense(7, activation='softmax'))\n",
    "\n",
    "model.compile(loss='categorical_crossentropy',optimizer='adam',metrics=['accuracy'])\n",
    "\n",
    "model.summary()"
   ]
  },
  {
   "cell_type": "code",
   "execution_count": 31,
   "metadata": {},
   "outputs": [],
   "source": [
    "model.load_weights(\"emotion_model.h5\")"
   ]
  },
  {
   "cell_type": "code",
   "execution_count": 32,
   "metadata": {},
   "outputs": [],
   "source": [
    "from PIL import Image\n",
    "import numpy as np\n",
    "from skimage import transform\n",
    "def load(filename):\n",
    "   np_image = Image.open(filename)\n",
    "   np_image = np.array(np_image).astype('float32')/255\n",
    "   np_image = transform.resize(np_image, (48, 48, 1))\n",
    "   np_image = np.expand_dims(np_image, axis=0)\n",
    "   return np_image"
   ]
  },
  {
   "cell_type": "code",
   "execution_count": 34,
   "metadata": {},
   "outputs": [
    {
     "name": "stdout",
     "output_type": "stream",
     "text": [
      "예측: 1.PNG\n",
      "Sad\n",
      "[1.9364020e-02 9.3031376e-05 1.8597322e-02 2.9313967e-01 2.3326164e-01\n",
      " 4.3553519e-01 9.1244729e-06]\n",
      "예측: 2.PNG\n",
      "Sad\n",
      "[0.04438117 0.00089634 0.2274369  0.18341018 0.1741833  0.35740945\n",
      " 0.01228272]\n",
      "예측: 3.PNG\n",
      "Happy\n",
      "[8.2038660e-03 1.9081526e-07 1.6465315e-03 9.2885292e-01 5.5265572e-02\n",
      " 6.0206484e-03 1.0274038e-05]\n",
      "예측: 4.PNG\n",
      "Happy\n",
      "[8.3264793e-05 1.2988056e-08 8.4426859e-03 8.2838207e-01 1.5926237e-01\n",
      " 3.8291067e-03 5.3985178e-07]\n",
      "예측: 5.PNG\n",
      "Happy\n",
      "[5.9688925e-03 3.4238221e-06 2.5332083e-03 9.1341519e-01 6.0172506e-02\n",
      " 1.7903108e-02 3.7216594e-06]\n",
      "예측: 6.PNG\n",
      "Neutral\n",
      "[1.5273929e-02 1.6408361e-05 2.3088031e-02 3.0494294e-01 5.9796029e-01\n",
      " 5.8198683e-02 5.1972474e-04]\n",
      "예측: 7.PNG\n",
      "Sad\n",
      "[9.6381791e-03 7.7668465e-06 1.7978927e-02 2.4362758e-01 2.5204948e-01\n",
      " 4.7653496e-01 1.6319672e-04]\n",
      "예측: im21.png\n",
      "Happy\n",
      "[6.9228495e-06 1.9276554e-07 1.0572199e-06 9.9790871e-01 2.0807674e-03\n",
      " 1.4663669e-07 2.2414583e-06]\n",
      "예측: im9.png\n",
      "Angry\n",
      "[9.9992359e-01 5.1157836e-06 6.7235997e-05 2.4560620e-06 1.0518340e-07\n",
      " 1.4162515e-06 1.9206430e-08]\n"
     ]
    }
   ],
   "source": [
    "filedi = '../graduation_dataset/emotion_test/'\n",
    "## graduation_dataset/glasses/0_glasses/glasses_006.png\n",
    "## graduation_dataset/glasses/3_round/round_172.png\n",
    "emotion_dict = {0: \"Angry\", 1: \"Disgusted\", 2: \"Fearful\", \n",
    "                3: \"Happy\", 4: \"Neutral\", 5: \"Sad\", 6: \"Surprised\"}\n",
    "\n",
    "filenames = os.listdir(filedi)\n",
    "\n",
    "for filename in filenames:\n",
    "    filepath = filedi + filename \n",
    "    img = plt.imread(filepath)\n",
    "    image = load(filepath)\n",
    "    result = model.predict(image)\n",
    "    print('예측: ' + filename)\n",
    "    maxindex = int(np.argmax(result))\n",
    "    print(emotion_dict[maxindex])\n",
    "    print(result[0])\n"
   ]
  },
  {
   "cell_type": "code",
   "execution_count": null,
   "metadata": {},
   "outputs": [],
   "source": []
  }
 ],
 "metadata": {
  "kernelspec": {
   "display_name": "Python 3",
   "language": "python",
   "name": "python3"
  },
  "language_info": {
   "codemirror_mode": {
    "name": "ipython",
    "version": 3
   },
   "file_extension": ".py",
   "mimetype": "text/x-python",
   "name": "python",
   "nbconvert_exporter": "python",
   "pygments_lexer": "ipython3",
   "version": "3.7.6"
  }
 },
 "nbformat": 4,
 "nbformat_minor": 4
}
